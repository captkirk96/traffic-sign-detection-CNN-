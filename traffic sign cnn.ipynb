{
 "cells": [
  {
   "cell_type": "code",
   "execution_count": 1,
   "metadata": {},
   "outputs": [],
   "source": [
    "import numpy as np \n",
    "import pandas as pd \n",
    "import matplotlib.pyplot as plt\n",
    "import cv2\n",
    "import tensorflow as tf\n",
    "from PIL import Image\n",
    "import os\n",
    "\n",
    "from sklearn.model_selection import train_test_split\n",
    "from keras.utils import to_categorical\n",
    "from keras.models import Sequential, load_model\n",
    "from keras.layers import Conv2D, MaxPool2D, Dense, Flatten, Dropout"
   ]
  },
  {
   "cell_type": "code",
   "execution_count": 2,
   "metadata": {},
   "outputs": [],
   "source": [
    "data = []\n",
    "labels = []\n",
    "# We have 43 Classes\n",
    "classes = 43\n",
    "cur_path = \"D:/traffic/archive\"\n"
   ]
  },
  {
   "cell_type": "code",
   "execution_count": 3,
   "metadata": {},
   "outputs": [],
   "source": [
    "for i in range(classes):\n",
    "    path = os.path.join(cur_path,'train',str(i))\n",
    "    images = os.listdir(path)\n",
    "    for a in images:\n",
    "        try:\n",
    "            image = Image.open(path + '\\\\'+ a)\n",
    "            image = image.resize((48,48))\n",
    "            image = np.array(image)\n",
    "            data.append(image)\n",
    "            labels.append(i)\n",
    "        except Exception as e:\n",
    "            print(e)"
   ]
  },
  {
   "cell_type": "code",
   "execution_count": 4,
   "metadata": {},
   "outputs": [],
   "source": [
    "data = np.array(data)\n",
    "labels = np.array(labels)"
   ]
  },
  {
   "cell_type": "code",
   "execution_count": 5,
   "metadata": {},
   "outputs": [],
   "source": [
    "np.save('D:/traffic/archive/training/data',data)\n",
    "np.save('D:/traffic/archive/training/target',labels)\n"
   ]
  },
  {
   "cell_type": "code",
   "execution_count": 6,
   "metadata": {},
   "outputs": [],
   "source": [
    "data=np.load('D:/traffic/archive/training/data.npy')\n",
    "labels=np.load('D:/traffic/archive/training/target.npy')"
   ]
  },
  {
   "cell_type": "code",
   "execution_count": 7,
   "metadata": {},
   "outputs": [
    {
     "name": "stdout",
     "output_type": "stream",
     "text": [
      "(39209, 48, 48, 3) (39209,)\n"
     ]
    }
   ],
   "source": [
    "print(data.shape, labels.shape)"
   ]
  },
  {
   "cell_type": "code",
   "execution_count": 8,
   "metadata": {},
   "outputs": [],
   "source": [
    "X_train, X_test, y_train, y_test = train_test_split(data, labels, test_size=0.2, random_state=0)"
   ]
  },
  {
   "cell_type": "code",
   "execution_count": 9,
   "metadata": {},
   "outputs": [
    {
     "name": "stdout",
     "output_type": "stream",
     "text": [
      "(31367, 48, 48, 3) (7842, 48, 48, 3) (31367,) (7842,)\n"
     ]
    }
   ],
   "source": [
    "print(X_train.shape, X_test.shape, y_train.shape, y_test.shape)"
   ]
  },
  {
   "cell_type": "code",
   "execution_count": 10,
   "metadata": {},
   "outputs": [],
   "source": [
    "y_train = to_categorical(y_train, 43)\n",
    "y_test = to_categorical(y_test, 43)"
   ]
  },
  {
   "cell_type": "code",
   "execution_count": 11,
   "metadata": {},
   "outputs": [],
   "source": [
    "model = Sequential()\n",
    "model.add(Conv2D(filters=32, kernel_size=(5,5), activation='relu', input_shape=X_train.shape[1:]))\n",
    "model.add(Conv2D(filters=32, kernel_size=(5,5), activation='relu'))\n",
    "model.add(MaxPool2D(pool_size=(2, 2)))\n",
    "model.add(Dropout(rate=0.25))\n",
    "model.add(Conv2D(filters=64, kernel_size=(3, 3), activation='relu'))\n",
    "model.add(Conv2D(filters=64, kernel_size=(3, 3), activation='relu'))\n",
    "model.add(MaxPool2D(pool_size=(2, 2)))\n",
    "model.add(Dropout(rate=0.25))\n",
    "model.add(Flatten())\n",
    "model.add(Dense(256, activation='relu'))\n",
    "model.add(Dropout(rate=0.5))\n",
    "\n",
    "model.add(Dense(43, activation='softmax'))"
   ]
  },
  {
   "cell_type": "code",
   "execution_count": 12,
   "metadata": {},
   "outputs": [],
   "source": [
    "model.compile(loss='categorical_crossentropy', optimizer='adam', metrics=['accuracy'])"
   ]
  },
  {
   "cell_type": "code",
   "execution_count": 13,
   "metadata": {},
   "outputs": [
    {
     "name": "stdout",
     "output_type": "stream",
     "text": [
      "Epoch 1/20\n",
      "981/981 [==============================] - 223s 226ms/step - loss: 1.3465 - accuracy: 0.6712 - val_loss: 0.1804 - val_accuracy: 0.9568\n",
      "Epoch 2/20\n",
      "981/981 [==============================] - 228s 232ms/step - loss: 0.3325 - accuracy: 0.9054 - val_loss: 0.1119 - val_accuracy: 0.9721\n",
      "Epoch 3/20\n",
      "981/981 [==============================] - 208s 212ms/step - loss: 0.2355 - accuracy: 0.9326 - val_loss: 0.0730 - val_accuracy: 0.9800\n",
      "Epoch 4/20\n",
      "981/981 [==============================] - 202s 206ms/step - loss: 0.1862 - accuracy: 0.9463 - val_loss: 0.0536 - val_accuracy: 0.9887\n",
      "Epoch 5/20\n",
      "981/981 [==============================] - 205s 209ms/step - loss: 0.1624 - accuracy: 0.9555 - val_loss: 0.0615 - val_accuracy: 0.9843\n",
      "Epoch 6/20\n",
      "981/981 [==============================] - 204s 208ms/step - loss: 0.1425 - accuracy: 0.9595 - val_loss: 0.0466 - val_accuracy: 0.9890\n",
      "Epoch 7/20\n",
      "981/981 [==============================] - 210s 215ms/step - loss: 0.1263 - accuracy: 0.9650 - val_loss: 0.0449 - val_accuracy: 0.9897\n",
      "Epoch 8/20\n",
      "981/981 [==============================] - 214s 218ms/step - loss: 0.1252 - accuracy: 0.9663 - val_loss: 0.0759 - val_accuracy: 0.9809\n",
      "Epoch 9/20\n",
      "981/981 [==============================] - 207s 211ms/step - loss: 0.1332 - accuracy: 0.9655 - val_loss: 0.0481 - val_accuracy: 0.9894\n",
      "Epoch 10/20\n",
      "981/981 [==============================] - 204s 208ms/step - loss: 0.1192 - accuracy: 0.9689 - val_loss: 0.0393 - val_accuracy: 0.9925\n",
      "Epoch 11/20\n",
      "981/981 [==============================] - 205s 209ms/step - loss: 0.0960 - accuracy: 0.9746 - val_loss: 0.0411 - val_accuracy: 0.9901\n",
      "Epoch 12/20\n",
      "981/981 [==============================] - 205s 209ms/step - loss: 0.1220 - accuracy: 0.9703 - val_loss: 0.0398 - val_accuracy: 0.9913\n",
      "Epoch 13/20\n",
      "981/981 [==============================] - 205s 209ms/step - loss: 0.1337 - accuracy: 0.9683 - val_loss: 0.0455 - val_accuracy: 0.9893\n",
      "Epoch 14/20\n",
      "981/981 [==============================] - 205s 209ms/step - loss: 0.1157 - accuracy: 0.9718 - val_loss: 0.0499 - val_accuracy: 0.9899\n",
      "Epoch 15/20\n",
      "981/981 [==============================] - 204s 208ms/step - loss: 0.1707 - accuracy: 0.9620 - val_loss: 0.0498 - val_accuracy: 0.9880\n",
      "Epoch 16/20\n",
      "981/981 [==============================] - 204s 208ms/step - loss: 0.1007 - accuracy: 0.9747 - val_loss: 0.0451 - val_accuracy: 0.9917\n",
      "Epoch 17/20\n",
      "981/981 [==============================] - 213s 217ms/step - loss: 0.1145 - accuracy: 0.9726 - val_loss: 0.0523 - val_accuracy: 0.9880\n",
      "Epoch 18/20\n",
      "981/981 [==============================] - 222s 226ms/step - loss: 0.0998 - accuracy: 0.9748 - val_loss: 0.0395 - val_accuracy: 0.9926\n",
      "Epoch 19/20\n",
      "981/981 [==============================] - 221s 226ms/step - loss: 0.1448 - accuracy: 0.9676 - val_loss: 0.0491 - val_accuracy: 0.9915\n",
      "Epoch 20/20\n",
      "981/981 [==============================] - 219s 224ms/step - loss: 0.1573 - accuracy: 0.9645 - val_loss: 0.0345 - val_accuracy: 0.9915\n"
     ]
    }
   ],
   "source": [
    "epochs = 20\n",
    "history = model.fit(X_train, y_train, batch_size=32, epochs=epochs, validation_data=(X_test, y_test))"
   ]
  },
  {
   "cell_type": "code",
   "execution_count": 18,
   "metadata": {},
   "outputs": [
    {
     "data": {
      "image/png": "[encoded data removed]",
      "text/plain": [
       "<Figure size 640x480 with 1 Axes>"
      ]
     },
     "metadata": {},
     "output_type": "display_data"
    }
   ],
   "source": [
    "plt.figure(0)\n",
    "plt.plot(history.history['accuracy'], label='training accuracy')\n",
    "plt.plot(history.history['val_accuracy'], label='val accuracy')\n",
    "plt.title('Accuracy')\n",
    "plt.xlabel('epochs')\n",
    "plt.ylabel('accuracy')\n",
    "plt.legend()\n",
    "plt.show()"
   ]
  },
  {
   "cell_type": "code",
   "execution_count": 19,
   "metadata": {},
   "outputs": [
    {
     "data": {
      "image/png": "[encoded data removed]",
      "text/plain": [
       "<Figure size 640x480 with 1 Axes>"
      ]
     },
     "metadata": {},
     "output_type": "display_data"
    }
   ],
   "source": [
    "# Loss\n",
    "plt.plot(history.history['loss'], label='training loss')\n",
    "plt.plot(history.history['val_loss'], label='val loss')\n",
    "plt.title('Loss')\n",
    "plt.xlabel('epochs')\n",
    "plt.ylabel('loss')\n",
    "plt.legend()\n",
    "plt.show()"
   ]
  },
  {
   "cell_type": "code",
   "execution_count": 44,
   "metadata": {},
   "outputs": [],
   "source": [
    "def testing(testcsv):\n",
    "    y_test = pd.read_csv(testcsv)\n",
    "    label = y_test[\"ClassId\"].values\n",
    "    imgs = y_test[\"Path\"].values\n",
    "    data=[]\n",
    "    for img in imgs:\n",
    "        image = Image.open(img)\n",
    "        image = image.resize((48,48))\n",
    "        data.append(np.array(image))\n",
    "    X_test=np.array(data)\n",
    "    return X_test,label"
   ]
  },
  {
   "cell_type": "code",
   "execution_count": 45,
   "metadata": {},
   "outputs": [],
   "source": [
    "X_test, label = testing('D:/traffic/archive/Test.csv')"
   ]
  },
  {
   "cell_type": "code",
   "execution_count": 56,
   "metadata": {},
   "outputs": [
    {
     "name": "stdout",
     "output_type": "stream",
     "text": [
      "395/395 [==============================] - 11s 27ms/step\n"
     ]
    },
    {
     "data": {
      "text/plain": [
       "array([[6.4616972e-27, 2.5104499e-18, 3.7118799e-23, ..., 4.6552942e-24,\n",
       "        8.9051910e-22, 2.8283651e-24],\n",
       "       [3.6925882e-23, 1.0000000e+00, 1.6854652e-22, ..., 7.5352197e-31,\n",
       "        0.0000000e+00, 0.0000000e+00],\n",
       "       [0.0000000e+00, 6.1159828e-30, 2.4735590e-24, ..., 4.3195180e-27,\n",
       "        0.0000000e+00, 0.0000000e+00],\n",
       "       ...,\n",
       "       [1.5630842e-05, 3.6354688e-01, 5.2701466e-04, ..., 1.1310483e-05,\n",
       "        3.5410935e-07, 6.6370787e-03],\n",
       "       [3.2064845e-15, 3.6818407e-10, 2.4861720e-08, ..., 1.5657160e-09,\n",
       "        2.5201792e-16, 1.4707669e-13],\n",
       "       [1.0784292e-10, 1.3255864e-08, 1.8199372e-06, ..., 7.3916344e-09,\n",
       "        3.3523488e-13, 1.0195300e-10]], dtype=float32)"
      ]
     },
     "execution_count": 56,
     "metadata": {},
     "output_type": "execute_result"
    }
   ],
   "source": [
    "Y_pred = model.predict(X_test)\n",
    "Y_pred"
   ]
  },
  {
   "cell_type": "code",
   "execution_count": 57,
   "metadata": {},
   "outputs": [
    {
     "name": "stdout",
     "output_type": "stream",
     "text": [
      "Accuracy: 0.9632620744259699\n"
     ]
    }
   ],
   "source": [
    "from sklearn.metrics import accuracy_score\n",
    "\n",
    "\n",
    "Y_pred = np.argmax(Y_pred, axis=1)  \n",
    "\n",
    "\n",
    "label = np.squeeze(label)  # Ensure label is a 1D array\n",
    "\n",
    "accuracy = accuracy_score(label, Y_pred)\n",
    "print(\"Accuracy:\", accuracy)\n"
   ]
  },
  {
   "cell_type": "code",
   "execution_count": 24,
   "metadata": {},
   "outputs": [
    {
     "name": "stderr",
     "output_type": "stream",
     "text": [
      "C:\\Users\\Chris Mathew\\AppData\\Local\\Packages\\PythonSoftwareFoundation.Python.3.10_qbz5n2kfra8p0\\LocalCache\\local-packages\\Python310\\site-packages\\keras\\src\\engine\\training.py:3000: UserWarning: You are saving your model as an HDF5 file via `model.save()`. This file format is considered legacy. We recommend using instead the native Keras format, e.g. `model.save('my_model.keras')`.\n",
      "  saving_api.save_model(\n"
     ]
    }
   ],
   "source": [
    "model.save(\"D:/traffic/archive/training/TSD.h5\")\n"
   ]
  },
  {
   "cell_type": "code",
   "execution_count": 25,
   "metadata": {},
   "outputs": [],
   "source": [
    "from keras.models import load_model\n",
    "model = load_model(\"D:/traffic/archive/training/TSD.h5\")"
   ]
  },
  {
   "cell_type": "code",
   "execution_count": 26,
   "metadata": {},
   "outputs": [],
   "source": [
    "classes = { 0:'Speed limit (20km/h)',\n",
    "            1:'Speed limit (48km/h)', \n",
    "            2:'Speed limit (50km/h)', \n",
    "            3:'Speed limit (60km/h)', \n",
    "            4:'Speed limit (70km/h)', \n",
    "            5:'Speed limit (80km/h)', \n",
    "            6:'End of speed limit (80km/h)', \n",
    "            7:'Speed limit (100km/h)', \n",
    "            8:'Speed limit (120km/h)', \n",
    "            9:'No passing', \n",
    "            10:'No passing veh over 3.5 tons', \n",
    "            11:'Right-of-way at intersection', \n",
    "            12:'Priority road', \n",
    "            13:'Yield', \n",
    "            14:'Stop', \n",
    "            15:'No vehicles', \n",
    "            16:'Veh > 3.5 tons prohibited', \n",
    "            17:'No entry', \n",
    "            18:'General caution', \n",
    "            19:'Dangerous curve left', \n",
    "            20:'Dangerous curve right', \n",
    "            21:'Double curve', \n",
    "            22:'Bumpy road', \n",
    "            23:'Slippery road', \n",
    "            24:'Road narrows on the right', \n",
    "            25:'Road work', \n",
    "            26:'Traffic signals', \n",
    "            27:'Pedestrians', \n",
    "            28:'Children crossing', \n",
    "            29:'Bicycles crossing', \n",
    "            48:'Beware of ice/snow',\n",
    "            31:'Wild animals crossing', \n",
    "            32:'End speed + passing limits', \n",
    "            33:'Turn right ahead', \n",
    "            34:'Turn left ahead', \n",
    "            35:'Ahead only', \n",
    "            36:'Go straight or right', \n",
    "            37:'Go straight or left', \n",
    "            38:'Keep right', \n",
    "            39:'Keep left', \n",
    "            40:'Roundabout mandatory', \n",
    "            41:'End of no passing', \n",
    "            42:'End no passing veh > 3.5 tons' }"
   ]
  },
  {
   "cell_type": "code",
   "execution_count": 27,
   "metadata": {},
   "outputs": [],
   "source": [
    "from PIL import Image\n",
    "import numpy as np\n",
    "import matplotlib.pyplot as plt\n",
    "def test_on_img(img):\n",
    "    data = []\n",
    "    image = Image.open(img)\n",
    "    image = image.resize((48, 48))\n",
    "    data.append(np.array(image))\n",
    "    X_test = np.array(data)\n",
    "    Y_pred = model.predict(X_test)\n",
    "    predicted_class = np.argmax(Y_pred)\n",
    "    return image, predicted_class"
   ]
  },
  {
   "cell_type": "code",
   "execution_count": 28,
   "metadata": {},
   "outputs": [
    {
     "name": "stdout",
     "output_type": "stream",
     "text": [
      "1/1 [==============================] - 0s 122ms/step\n",
      "Predicted traffic sign is: General caution\n"
     ]
    },
    {
     "data": {
      "image/png": "[encoded data removed]",
      "text/plain": [
       "<Figure size 640x480 with 1 Axes>"
      ]
     },
     "metadata": {},
     "output_type": "display_data"
    }
   ],
   "source": [
    "plot, prediction = test_on_img(r\"D:/prod1-English-10547.jpg\")\n",
    "a = int(prediction)\n",
    "print(\"Predicted traffic sign is:\", classes[a])\n",
    "plt.imshow(plot)\n",
    "plt.show()"
   ]
  },
  {
   "cell_type": "code",
   "execution_count": null,
   "metadata": {},
   "outputs": [],
   "source": []
  }
 ],
 "metadata": {
  "kernelspec": {
   "display_name": "Python 3",
   "language": "python",
   "name": "python3"
  },
  "language_info": {
   "codemirror_mode": {
    "name": "ipython",
    "version": 3
   },
   "file_extension": ".py",
   "mimetype": "text/x-python",
   "name": "python",
   "nbconvert_exporter": "python",
   "pygments_lexer": "ipython3",
   "version": "3.10.9"
  },
  "orig_nbformat": 4
 },
 "nbformat": 4,
 "nbformat_minor": 2
}
